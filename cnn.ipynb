{
 "cells": [
  {
   "cell_type": "markdown",
   "metadata": {},
   "source": [
    "Importing the libraries\n",
    "- used this as a tutorial: https://www.tensorflow.org/tutorials/images/classification"
   ]
  },
  {
   "cell_type": "code",
   "execution_count": 315,
   "metadata": {},
   "outputs": [],
   "source": [
    "import matplotlib.pyplot as plt\n",
    "import numpy as np\n",
    "import os\n",
    "import PIL\n",
    "import tensorflow as tf\n",
    "\n",
    "from tensorflow import keras\n",
    "from tensorflow.keras import layers, regularizers\n",
    "from tensorflow.keras.models import Sequential"
   ]
  },
  {
   "cell_type": "markdown",
   "metadata": {},
   "source": [
    "Creating the dataset"
   ]
  },
  {
   "cell_type": "code",
   "execution_count": 316,
   "metadata": {},
   "outputs": [],
   "source": [
    "batch_size = 64\n",
    "img_size = 100\n",
    "data_dir = \"./chess\""
   ]
  },
  {
   "cell_type": "code",
   "execution_count": 317,
   "metadata": {},
   "outputs": [
    {
     "data": {
      "text/plain": [
       "['.DS_Store',\n",
       " '.git',\n",
       " '.gitattributes',\n",
       " '.gitignore',\n",
       " '.ipynb_checkpoints',\n",
       " 'Chess',\n",
       " 'cnn.ipynb',\n",
       " 'PCTest',\n",
       " 'test',\n",
       " 'transfer_model.ipynb']"
      ]
     },
     "execution_count": 317,
     "metadata": {},
     "output_type": "execute_result"
    }
   ],
   "source": [
    "os.listdir('.')"
   ]
  },
  {
   "cell_type": "code",
   "execution_count": 318,
   "metadata": {},
   "outputs": [
    {
     "name": "stdout",
     "output_type": "stream",
     "text": [
      "Found 553 files belonging to 6 classes.\n",
      "Using 443 files for training.\n"
     ]
    }
   ],
   "source": [
    "train_ds = tf.keras.utils.image_dataset_from_directory(\n",
    "    data_dir,\n",
    "    validation_split = 0.2,\n",
    "    subset = \"training\",\n",
    "    seed = 123,\n",
    "    image_size = (img_size, img_size),\n",
    "    batch_size = batch_size)"
   ]
  },
  {
   "cell_type": "code",
   "execution_count": 319,
   "metadata": {},
   "outputs": [
    {
     "name": "stdout",
     "output_type": "stream",
     "text": [
      "Found 553 files belonging to 6 classes.\n",
      "Using 110 files for validation.\n"
     ]
    }
   ],
   "source": [
    "val_ds = tf.keras.utils.image_dataset_from_directory(\n",
    "    data_dir,\n",
    "    validation_split = 0.2,\n",
    "    subset = \"validation\",\n",
    "    seed = 123,\n",
    "    image_size = (img_size, img_size),\n",
    "    batch_size = batch_size)"
   ]
  },
  {
   "cell_type": "code",
   "execution_count": 320,
   "metadata": {},
   "outputs": [
    {
     "data": {
      "text/plain": [
       "tensorflow.python.data.ops.dataset_ops.BatchDataset"
      ]
     },
     "execution_count": 320,
     "metadata": {},
     "output_type": "execute_result"
    }
   ],
   "source": [
    "type(train_ds)"
   ]
  },
  {
   "cell_type": "code",
   "execution_count": 321,
   "metadata": {},
   "outputs": [
    {
     "name": "stdout",
     "output_type": "stream",
     "text": [
      "['Bishop', 'King', 'Knight', 'Pawn', 'Queen', 'Rook']\n"
     ]
    }
   ],
   "source": [
    "class_names = train_ds.class_names\n",
    "print(class_names)"
   ]
  },
  {
   "cell_type": "markdown",
   "metadata": {},
   "source": [
    "Building A Neural Network Model"
   ]
  },
  {
   "cell_type": "code",
   "execution_count": 322,
   "metadata": {},
   "outputs": [],
   "source": [
    "data_augmentation = Sequential([\n",
    "    layers.RandomFlip('horizontal'),\n",
    "    layers.RandomRotation(0.1),\n",
    "    layers.RandomZoom((-0.1,0.1)),\n",
    "    layers.RandomContrast(0.05),\n",
    "    layers.RandomTranslation(0.1,0.1)\n",
    "])"
   ]
  },
  {
   "cell_type": "code",
   "execution_count": 323,
   "metadata": {},
   "outputs": [],
   "source": [
    "num_classes = len(class_names)\n",
    "reg = regularizers.l2(0.001)\n",
    "img_shape = (img_size, img_size, 3)\n",
    "\n",
    "model = Sequential([\n",
    "    layers.InputLayer(input_shape=img_shape),\n",
    "    data_augmentation,\n",
    "    layers.Rescaling(1./255),\n",
    "    layers.Conv2D(16, (3,3), padding='same', activation='relu', kernel_regularizer=reg, bias_regularizer=reg),\n",
    "    layers.MaxPooling2D(pool_size=(2,2)),\n",
    "#     layers.Dropout(0.2),\n",
    "    layers.Conv2D(32, 3, padding='same', activation='relu',kernel_regularizer=reg, bias_regularizer=reg),\n",
    "    layers.MaxPooling2D(pool_size=(2,2)),\n",
    "#     layers.Dropout(0.2),\n",
    "    layers.Conv2D(64, 3, padding='same', activation='relu', kernel_regularizer=reg, bias_regularizer=reg),\n",
    "    layers.MaxPooling2D(),\n",
    "    layers.Dropout(0.2),\n",
    "    layers.Flatten(),\n",
    "    layers.Dense(128, activation='relu', kernel_regularizer=reg, bias_regularizer=reg),\n",
    "    layers.Dense(num_classes, activation='softmax')\n",
    "])"
   ]
  },
  {
   "cell_type": "code",
   "execution_count": 324,
   "metadata": {},
   "outputs": [
    {
     "name": "stdout",
     "output_type": "stream",
     "text": [
      "Model: \"sequential_37\"\n",
      "_________________________________________________________________\n",
      " Layer (type)                Output Shape              Param #   \n",
      "=================================================================\n",
      " sequential_36 (Sequential)  (None, 100, 100, 3)       0         \n",
      "                                                                 \n",
      " rescaling_27 (Rescaling)    (None, 100, 100, 3)       0         \n",
      "                                                                 \n",
      " conv2d_81 (Conv2D)          (None, 100, 100, 16)      448       \n",
      "                                                                 \n",
      " max_pooling2d_81 (MaxPoolin  (None, 50, 50, 16)       0         \n",
      " g2D)                                                            \n",
      "                                                                 \n",
      " conv2d_82 (Conv2D)          (None, 50, 50, 32)        4640      \n",
      "                                                                 \n",
      " max_pooling2d_82 (MaxPoolin  (None, 25, 25, 32)       0         \n",
      " g2D)                                                            \n",
      "                                                                 \n",
      " conv2d_83 (Conv2D)          (None, 25, 25, 64)        18496     \n",
      "                                                                 \n",
      " max_pooling2d_83 (MaxPoolin  (None, 12, 12, 64)       0         \n",
      " g2D)                                                            \n",
      "                                                                 \n",
      " dropout_27 (Dropout)        (None, 12, 12, 64)        0         \n",
      "                                                                 \n",
      " flatten_27 (Flatten)        (None, 9216)              0         \n",
      "                                                                 \n",
      " dense_54 (Dense)            (None, 128)               1179776   \n",
      "                                                                 \n",
      " dense_55 (Dense)            (None, 6)                 774       \n",
      "                                                                 \n",
      "=================================================================\n",
      "Total params: 1,204,134\n",
      "Trainable params: 1,204,134\n",
      "Non-trainable params: 0\n",
      "_________________________________________________________________\n"
     ]
    }
   ],
   "source": [
    "model.summary()"
   ]
  },
  {
   "cell_type": "code",
   "execution_count": 325,
   "metadata": {},
   "outputs": [],
   "source": [
    "model.compile(loss=\"sparse_categorical_crossentropy\",\n",
    "              optimizer=keras.optimizers.Adam(0.0005),\n",
    "              metrics=[\"accuracy\"])\n"
   ]
  },
  {
   "cell_type": "code",
   "execution_count": 326,
   "metadata": {},
   "outputs": [
    {
     "name": "stdout",
     "output_type": "stream",
     "text": [
      "Epoch 1/30\n",
      "7/7 [==============================] - 4s 271ms/step - loss: 2.1318 - accuracy: 0.1580 - val_loss: 2.0701 - val_accuracy: 0.1727\n",
      "Epoch 2/30\n",
      "7/7 [==============================] - 3s 248ms/step - loss: 2.0362 - accuracy: 0.2257 - val_loss: 2.0308 - val_accuracy: 0.2273\n",
      "Epoch 3/30\n",
      "7/7 [==============================] - 3s 249ms/step - loss: 1.9968 - accuracy: 0.2099 - val_loss: 1.9960 - val_accuracy: 0.2000\n",
      "Epoch 4/30\n",
      "7/7 [==============================] - 3s 249ms/step - loss: 1.9662 - accuracy: 0.2302 - val_loss: 1.9671 - val_accuracy: 0.1909\n",
      "Epoch 5/30\n",
      "7/7 [==============================] - 3s 247ms/step - loss: 1.9419 - accuracy: 0.2235 - val_loss: 1.9518 - val_accuracy: 0.2364\n",
      "Epoch 6/30\n",
      "7/7 [==============================] - 3s 247ms/step - loss: 1.9177 - accuracy: 0.2190 - val_loss: 1.9315 - val_accuracy: 0.1909\n",
      "Epoch 7/30\n",
      "7/7 [==============================] - 3s 256ms/step - loss: 1.9029 - accuracy: 0.2573 - val_loss: 1.9132 - val_accuracy: 0.2000\n",
      "Epoch 8/30\n",
      "7/7 [==============================] - 3s 250ms/step - loss: 1.8917 - accuracy: 0.2235 - val_loss: 1.9025 - val_accuracy: 0.2273\n",
      "Epoch 9/30\n",
      "7/7 [==============================] - 3s 249ms/step - loss: 1.8673 - accuracy: 0.2438 - val_loss: 1.9109 - val_accuracy: 0.1727\n",
      "Epoch 10/30\n",
      "7/7 [==============================] - 3s 249ms/step - loss: 1.8483 - accuracy: 0.2867 - val_loss: 1.8730 - val_accuracy: 0.2182\n",
      "Epoch 11/30\n",
      "7/7 [==============================] - 3s 247ms/step - loss: 1.8272 - accuracy: 0.2686 - val_loss: 1.8775 - val_accuracy: 0.2364\n",
      "Epoch 12/30\n",
      "7/7 [==============================] - 3s 248ms/step - loss: 1.8135 - accuracy: 0.2777 - val_loss: 1.8600 - val_accuracy: 0.2909\n",
      "Epoch 13/30\n",
      "7/7 [==============================] - 3s 252ms/step - loss: 1.7988 - accuracy: 0.2867 - val_loss: 1.8593 - val_accuracy: 0.3000\n",
      "Epoch 14/30\n",
      "7/7 [==============================] - 3s 250ms/step - loss: 1.7922 - accuracy: 0.2935 - val_loss: 1.8517 - val_accuracy: 0.2727\n",
      "Epoch 15/30\n",
      "7/7 [==============================] - 3s 249ms/step - loss: 1.7993 - accuracy: 0.3025 - val_loss: 1.8178 - val_accuracy: 0.2818\n",
      "Epoch 16/30\n",
      "7/7 [==============================] - 3s 252ms/step - loss: 1.7712 - accuracy: 0.3183 - val_loss: 1.8229 - val_accuracy: 0.2636\n",
      "Epoch 17/30\n",
      "7/7 [==============================] - 3s 249ms/step - loss: 1.7497 - accuracy: 0.3476 - val_loss: 1.7867 - val_accuracy: 0.3545\n",
      "Epoch 18/30\n",
      "7/7 [==============================] - 3s 247ms/step - loss: 1.7234 - accuracy: 0.3567 - val_loss: 1.8216 - val_accuracy: 0.3091\n",
      "Epoch 19/30\n",
      "7/7 [==============================] - 3s 254ms/step - loss: 1.7176 - accuracy: 0.3341 - val_loss: 1.8060 - val_accuracy: 0.3182\n",
      "Epoch 20/30\n",
      "7/7 [==============================] - 3s 247ms/step - loss: 1.7358 - accuracy: 0.3409 - val_loss: 1.9062 - val_accuracy: 0.2727\n",
      "Epoch 21/30\n",
      "7/7 [==============================] - 3s 252ms/step - loss: 1.7447 - accuracy: 0.3228 - val_loss: 1.7821 - val_accuracy: 0.3364\n",
      "Epoch 22/30\n",
      "7/7 [==============================] - 3s 252ms/step - loss: 1.7238 - accuracy: 0.3431 - val_loss: 1.8267 - val_accuracy: 0.3273\n",
      "Epoch 23/30\n",
      "7/7 [==============================] - 3s 249ms/step - loss: 1.7097 - accuracy: 0.3679 - val_loss: 1.8110 - val_accuracy: 0.3000\n",
      "Epoch 24/30\n",
      "7/7 [==============================] - 3s 249ms/step - loss: 1.6870 - accuracy: 0.3905 - val_loss: 1.7966 - val_accuracy: 0.3545\n",
      "Epoch 25/30\n",
      "7/7 [==============================] - 3s 251ms/step - loss: 1.6634 - accuracy: 0.3770 - val_loss: 1.7755 - val_accuracy: 0.3455\n",
      "Epoch 26/30\n",
      "7/7 [==============================] - 3s 254ms/step - loss: 1.6382 - accuracy: 0.3589 - val_loss: 1.8222 - val_accuracy: 0.3455\n",
      "Epoch 27/30\n",
      "7/7 [==============================] - 3s 249ms/step - loss: 1.6266 - accuracy: 0.4086 - val_loss: 1.8222 - val_accuracy: 0.3545\n",
      "Epoch 28/30\n",
      "7/7 [==============================] - 3s 249ms/step - loss: 1.6498 - accuracy: 0.3815 - val_loss: 1.7552 - val_accuracy: 0.4000\n",
      "Epoch 29/30\n",
      "7/7 [==============================] - 3s 251ms/step - loss: 1.6095 - accuracy: 0.4379 - val_loss: 1.7417 - val_accuracy: 0.4000\n",
      "Epoch 30/30\n",
      "7/7 [==============================] - 3s 249ms/step - loss: 1.6277 - accuracy: 0.3860 - val_loss: 1.7835 - val_accuracy: 0.3818\n"
     ]
    }
   ],
   "source": [
    "epochs=30\n",
    "history = model.fit(\n",
    "  train_ds,\n",
    "  validation_data=val_ds,\n",
    "  epochs=epochs\n",
    ")\n"
   ]
  },
  {
   "cell_type": "code",
   "execution_count": 327,
   "metadata": {},
   "outputs": [
    {
     "name": "stdout",
     "output_type": "stream",
     "text": [
      "[0.15801353752613068, 0.22573363780975342, 0.20993228256702423, 0.23024830222129822, 0.22347629070281982, 0.21896162629127502, 0.2573363482952118, 0.22347629070281982, 0.243792325258255, 0.2866817116737366, 0.268623024225235, 0.277652382850647, 0.2866817116737366, 0.29345372319221497, 0.30248308181762695, 0.31828442215919495, 0.3476297855377197, 0.3566591441631317, 0.3340857923030853, 0.34085777401924133, 0.32279908657073975, 0.3431151211261749, 0.3679458200931549, 0.3905192017555237, 0.3769751787185669, 0.3589164912700653, 0.40857788920402527, 0.3814898431301117, 0.43792325258255005, 0.3860045075416565]\n"
     ]
    }
   ],
   "source": [
    "accuracy = history.history['accuracy']\n",
    "print(accuracy)"
   ]
  },
  {
   "cell_type": "code",
   "execution_count": 328,
   "metadata": {},
   "outputs": [
    {
     "data": {
      "image/png": "[encoded data removed]",
      "text/plain": [
       "<Figure size 576x576 with 2 Axes>"
      ]
     },
     "metadata": {
      "needs_background": "light"
     },
     "output_type": "display_data"
    }
   ],
   "source": [
    "acc = history.history['accuracy']\n",
    "val_acc = history.history['val_accuracy']\n",
    "\n",
    "loss = history.history['loss']\n",
    "val_loss = history.history['val_loss']\n",
    "\n",
    "epochs_range = range(epochs)\n",
    "\n",
    "plt.figure(figsize=(8, 8))\n",
    "plt.subplot(1, 2, 1)\n",
    "plt.plot(epochs_range, acc, label='Training Accuracy')\n",
    "plt.plot(epochs_range, val_acc, label='Validation Accuracy')\n",
    "plt.legend(loc='lower right')\n",
    "plt.title('Training and Validation Accuracy')\n",
    "\n",
    "plt.subplot(1, 2, 2)\n",
    "plt.plot(epochs_range, loss, label='Training Loss')\n",
    "plt.plot(epochs_range, val_loss, label='Validation Loss')\n",
    "plt.legend(loc='upper right')\n",
    "plt.title('Training and Validation Loss')\n",
    "plt.show()\n"
   ]
  },
  {
   "cell_type": "code",
   "execution_count": null,
   "metadata": {},
   "outputs": [],
   "source": []
  }
 ],
 "metadata": {
  "kernelspec": {
   "display_name": "Python 3",
   "language": "python",
   "name": "python3"
  },
  "language_info": {
   "codemirror_mode": {
    "name": "ipython",
    "version": 3
   },
   "file_extension": ".py",
   "mimetype": "text/x-python",
   "name": "python",
   "nbconvert_exporter": "python",
   "pygments_lexer": "ipython3",
   "version": "3.8.5"
  }
 },
 "nbformat": 4,
 "nbformat_minor": 4
}
