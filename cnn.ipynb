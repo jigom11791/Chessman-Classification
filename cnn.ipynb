{
 "cells": [
  {
   "cell_type": "markdown",
   "metadata": {},
   "source": [
    "Importing the libraries\n",
    "- used this as a tutorial: https://www.tensorflow.org/tutorials/images/classification"
   ]
  },
  {
   "cell_type": "code",
   "execution_count": 1,
   "metadata": {},
   "outputs": [],
   "source": [
    "import matplotlib.pyplot as plt\n",
    "import numpy as np\n",
    "import os\n",
    "import PIL\n",
    "import tensorflow as tf\n",
    "\n",
    "from tensorflow import keras\n",
    "from tensorflow.keras import layers, regularizers\n",
    "from tensorflow.keras.models import Sequential"
   ]
  },
  {
   "cell_type": "markdown",
   "metadata": {},
   "source": [
    "Creating the dataset"
   ]
  },
  {
   "cell_type": "code",
   "execution_count": 2,
   "metadata": {},
   "outputs": [],
   "source": [
    "batch_size = 32\n",
    "img_size = 100\n",
    "data_dir = \"./chess\""
   ]
  },
  {
   "cell_type": "code",
   "execution_count": 3,
   "metadata": {},
   "outputs": [
    {
     "data": {
      "text/plain": [
       "['.DS_Store',\n",
       " '.git',\n",
       " '.gitattributes',\n",
       " '.gitignore',\n",
       " '.ipynb_checkpoints',\n",
       " 'Chess',\n",
       " 'cnn-Copy1.ipynb',\n",
       " 'cnn.ipynb',\n",
       " 'transfer_model.ipynb']"
      ]
     },
     "execution_count": 3,
     "metadata": {},
     "output_type": "execute_result"
    }
   ],
   "source": [
    "os.listdir('.')"
   ]
  },
  {
   "cell_type": "code",
   "execution_count": 4,
   "metadata": {},
   "outputs": [
    {
     "name": "stdout",
     "output_type": "stream",
     "text": [
      "Found 552 files belonging to 6 classes.\n",
      "Using 442 files for training.\n"
     ]
    }
   ],
   "source": [
    "train_ds = tf.keras.utils.image_dataset_from_directory(\n",
    "    data_dir,\n",
    "    validation_split = 0.2,\n",
    "    subset = \"training\",\n",
    "    seed = 123,\n",
    "    image_size = (img_size, img_size),\n",
    "    batch_size = batch_size)"
   ]
  },
  {
   "cell_type": "code",
   "execution_count": 5,
   "metadata": {},
   "outputs": [
    {
     "name": "stdout",
     "output_type": "stream",
     "text": [
      "Found 552 files belonging to 6 classes.\n",
      "Using 110 files for validation.\n"
     ]
    }
   ],
   "source": [
    "val_ds = tf.keras.utils.image_dataset_from_directory(\n",
    "    data_dir,\n",
    "    validation_split = 0.2,\n",
    "    subset = \"validation\",\n",
    "    seed = 123,\n",
    "    image_size = (img_size, img_size),\n",
    "    batch_size = batch_size)"
   ]
  },
  {
   "cell_type": "code",
   "execution_count": 6,
   "metadata": {},
   "outputs": [
    {
     "data": {
      "text/plain": [
       "tensorflow.python.data.ops.dataset_ops.BatchDataset"
      ]
     },
     "execution_count": 6,
     "metadata": {},
     "output_type": "execute_result"
    }
   ],
   "source": [
    "type(train_ds)"
   ]
  },
  {
   "cell_type": "code",
   "execution_count": 7,
   "metadata": {},
   "outputs": [
    {
     "name": "stdout",
     "output_type": "stream",
     "text": [
      "['Bishop', 'King', 'Knight', 'Pawn', 'Queen', 'Rook']\n"
     ]
    }
   ],
   "source": [
    "class_names = train_ds.class_names\n",
    "print(class_names)"
   ]
  },
  {
   "cell_type": "markdown",
   "metadata": {},
   "source": [
    "Building A Neural Network Model"
   ]
  },
  {
   "cell_type": "code",
   "execution_count": 8,
   "metadata": {},
   "outputs": [],
   "source": [
    "data_augmentation = Sequential([\n",
    "    layers.RandomFlip('horizontal'),\n",
    "    layers.RandomRotation(0.1),\n",
    "    layers.RandomZoom((-0.1,0.1)),\n",
    "    layers.RandomContrast(0.05),\n",
    "    layers.RandomTranslation(0.1,0.1)\n",
    "])"
   ]
  },
  {
   "cell_type": "code",
   "execution_count": 9,
   "metadata": {},
   "outputs": [],
   "source": [
    "num_classes = len(class_names)\n",
    "reg = regularizers.l2(0.001)\n",
    "img_shape = (img_size, img_size, 3)\n",
    "\n",
    "model = Sequential([\n",
    "    layers.InputLayer(input_shape=img_shape),\n",
    "    data_augmentation,\n",
    "    layers.Rescaling(1./255),\n",
    "    layers.Conv2D(16, (3,3), padding='same', activation='relu', kernel_regularizer=reg, bias_regularizer=reg),\n",
    "    layers.MaxPooling2D(pool_size=(2,2)),\n",
    "#     layers.Dropout(0.2),\n",
    "    layers.Conv2D(32, 3, padding='same', activation='relu',kernel_regularizer=reg, bias_regularizer=reg),\n",
    "    layers.MaxPooling2D(pool_size=(2,2)),\n",
    "#     layers.Dropout(0.2),\n",
    "    layers.Conv2D(64, 3, padding='same', activation='relu', kernel_regularizer=reg, bias_regularizer=reg),\n",
    "    layers.MaxPooling2D(),\n",
    "    layers.Dropout(0.2),\n",
    "    layers.Flatten(),\n",
    "    layers.Dense(128, activation='relu', kernel_regularizer=reg, bias_regularizer=reg),\n",
    "    layers.Dense(num_classes, activation='softmax')\n",
    "])"
   ]
  },
  {
   "cell_type": "code",
   "execution_count": 10,
   "metadata": {},
   "outputs": [
    {
     "name": "stdout",
     "output_type": "stream",
     "text": [
      "Model: \"sequential_1\"\n",
      "_________________________________________________________________\n",
      " Layer (type)                Output Shape              Param #   \n",
      "=================================================================\n",
      " sequential (Sequential)     (None, 100, 100, 3)       0         \n",
      "                                                                 \n",
      " rescaling (Rescaling)       (None, 100, 100, 3)       0         \n",
      "                                                                 \n",
      " conv2d (Conv2D)             (None, 100, 100, 16)      448       \n",
      "                                                                 \n",
      " max_pooling2d (MaxPooling2D  (None, 50, 50, 16)       0         \n",
      " )                                                               \n",
      "                                                                 \n",
      " conv2d_1 (Conv2D)           (None, 50, 50, 32)        4640      \n",
      "                                                                 \n",
      " max_pooling2d_1 (MaxPooling  (None, 25, 25, 32)       0         \n",
      " 2D)                                                             \n",
      "                                                                 \n",
      " conv2d_2 (Conv2D)           (None, 25, 25, 64)        18496     \n",
      "                                                                 \n",
      " max_pooling2d_2 (MaxPooling  (None, 12, 12, 64)       0         \n",
      " 2D)                                                             \n",
      "                                                                 \n",
      " dropout (Dropout)           (None, 12, 12, 64)        0         \n",
      "                                                                 \n",
      " flatten (Flatten)           (None, 9216)              0         \n",
      "                                                                 \n",
      " dense (Dense)               (None, 128)               1179776   \n",
      "                                                                 \n",
      " dense_1 (Dense)             (None, 6)                 774       \n",
      "                                                                 \n",
      "=================================================================\n",
      "Total params: 1,204,134\n",
      "Trainable params: 1,204,134\n",
      "Non-trainable params: 0\n",
      "_________________________________________________________________\n"
     ]
    }
   ],
   "source": [
    "model.summary()"
   ]
  },
  {
   "cell_type": "code",
   "execution_count": 11,
   "metadata": {},
   "outputs": [],
   "source": [
    "model.compile(loss=\"sparse_categorical_crossentropy\",\n",
    "              optimizer=keras.optimizers.Adam(0.0005),\n",
    "              metrics=[\"accuracy\"])\n"
   ]
  },
  {
   "cell_type": "code",
   "execution_count": 12,
   "metadata": {},
   "outputs": [
    {
     "name": "stdout",
     "output_type": "stream",
     "text": [
      "Epoch 1/30\n",
      "14/14 [==============================] - 10s 438ms/step - loss: 2.1084 - accuracy: 0.1968 - val_loss: 2.0990 - val_accuracy: 0.1636\n",
      "Epoch 2/30\n",
      "14/14 [==============================] - 7s 380ms/step - loss: 2.0376 - accuracy: 0.2036 - val_loss: 2.0485 - val_accuracy: 0.1818\n",
      "Epoch 3/30\n",
      "14/14 [==============================] - 7s 392ms/step - loss: 1.9984 - accuracy: 0.2149 - val_loss: 2.0061 - val_accuracy: 0.2091\n",
      "Epoch 4/30\n",
      "14/14 [==============================] - 7s 383ms/step - loss: 1.9679 - accuracy: 0.2376 - val_loss: 1.9766 - val_accuracy: 0.2182\n",
      "Epoch 5/30\n",
      "14/14 [==============================] - 7s 390ms/step - loss: 1.9461 - accuracy: 0.2127 - val_loss: 1.9585 - val_accuracy: 0.2182\n",
      "Epoch 6/30\n",
      "14/14 [==============================] - 7s 379ms/step - loss: 1.9143 - accuracy: 0.2579 - val_loss: 1.9505 - val_accuracy: 0.2727\n",
      "Epoch 7/30\n",
      "14/14 [==============================] - 7s 389ms/step - loss: 1.8997 - accuracy: 0.2783 - val_loss: 1.9515 - val_accuracy: 0.2455\n",
      "Epoch 8/30\n",
      "14/14 [==============================] - 8s 411ms/step - loss: 1.8700 - accuracy: 0.2534 - val_loss: 1.9467 - val_accuracy: 0.2636\n",
      "Epoch 9/30\n",
      "14/14 [==============================] - 7s 410ms/step - loss: 1.8751 - accuracy: 0.2511 - val_loss: 1.9134 - val_accuracy: 0.2000\n",
      "Epoch 10/30\n",
      "14/14 [==============================] - 7s 372ms/step - loss: 1.8486 - accuracy: 0.2941 - val_loss: 1.9169 - val_accuracy: 0.2909\n",
      "Epoch 11/30\n",
      "14/14 [==============================] - 7s 376ms/step - loss: 1.8128 - accuracy: 0.3100 - val_loss: 1.8999 - val_accuracy: 0.2273\n",
      "Epoch 12/30\n",
      "14/14 [==============================] - 7s 384ms/step - loss: 1.8079 - accuracy: 0.2896 - val_loss: 1.8899 - val_accuracy: 0.3091\n",
      "Epoch 13/30\n",
      "14/14 [==============================] - 7s 406ms/step - loss: 1.7973 - accuracy: 0.3100 - val_loss: 1.8837 - val_accuracy: 0.3091\n",
      "Epoch 14/30\n",
      "14/14 [==============================] - 7s 399ms/step - loss: 1.7690 - accuracy: 0.3054 - val_loss: 1.8762 - val_accuracy: 0.3000\n",
      "Epoch 15/30\n",
      "14/14 [==============================] - 7s 380ms/step - loss: 1.7600 - accuracy: 0.3303 - val_loss: 1.8802 - val_accuracy: 0.2909\n",
      "Epoch 16/30\n",
      "14/14 [==============================] - 7s 388ms/step - loss: 1.7659 - accuracy: 0.3077 - val_loss: 1.8500 - val_accuracy: 0.3545\n",
      "Epoch 17/30\n",
      "14/14 [==============================] - 7s 376ms/step - loss: 1.7691 - accuracy: 0.3235 - val_loss: 1.8283 - val_accuracy: 0.3091\n",
      "Epoch 18/30\n",
      "14/14 [==============================] - 7s 379ms/step - loss: 1.7099 - accuracy: 0.3348 - val_loss: 1.8606 - val_accuracy: 0.3182\n",
      "Epoch 19/30\n",
      "14/14 [==============================] - 7s 376ms/step - loss: 1.6906 - accuracy: 0.3643 - val_loss: 1.8324 - val_accuracy: 0.3182\n",
      "Epoch 20/30\n",
      "14/14 [==============================] - 7s 375ms/step - loss: 1.6761 - accuracy: 0.3733 - val_loss: 1.7929 - val_accuracy: 0.3455\n",
      "Epoch 21/30\n",
      "14/14 [==============================] - 7s 400ms/step - loss: 1.6963 - accuracy: 0.3462 - val_loss: 1.8239 - val_accuracy: 0.3273\n",
      "Epoch 22/30\n",
      "14/14 [==============================] - 7s 385ms/step - loss: 1.6779 - accuracy: 0.3846 - val_loss: 1.7908 - val_accuracy: 0.3091\n",
      "Epoch 23/30\n",
      "14/14 [==============================] - 7s 393ms/step - loss: 1.6561 - accuracy: 0.3869 - val_loss: 1.8777 - val_accuracy: 0.3455\n",
      "Epoch 24/30\n",
      "14/14 [==============================] - 7s 392ms/step - loss: 1.6920 - accuracy: 0.3439 - val_loss: 1.7623 - val_accuracy: 0.3545\n",
      "Epoch 25/30\n",
      "14/14 [==============================] - 7s 405ms/step - loss: 1.6245 - accuracy: 0.4118 - val_loss: 1.7888 - val_accuracy: 0.3364\n",
      "Epoch 26/30\n",
      "14/14 [==============================] - 7s 375ms/step - loss: 1.6445 - accuracy: 0.3869 - val_loss: 1.8165 - val_accuracy: 0.3455\n",
      "Epoch 27/30\n",
      "14/14 [==============================] - 7s 380ms/step - loss: 1.6199 - accuracy: 0.4253 - val_loss: 1.7804 - val_accuracy: 0.3455\n",
      "Epoch 28/30\n",
      "14/14 [==============================] - 7s 383ms/step - loss: 1.5706 - accuracy: 0.4050 - val_loss: 1.7779 - val_accuracy: 0.3545\n",
      "Epoch 29/30\n",
      "14/14 [==============================] - 7s 377ms/step - loss: 1.5654 - accuracy: 0.4208 - val_loss: 1.8087 - val_accuracy: 0.3273\n",
      "Epoch 30/30\n",
      "14/14 [==============================] - 7s 387ms/step - loss: 1.5566 - accuracy: 0.4118 - val_loss: 1.7901 - val_accuracy: 0.3455\n"
     ]
    }
   ],
   "source": [
    "epochs=30\n",
    "history = model.fit(\n",
    "  train_ds,\n",
    "  validation_data=val_ds,\n",
    "  epochs=epochs\n",
    ")\n"
   ]
  },
  {
   "cell_type": "code",
   "execution_count": 13,
   "metadata": {},
   "outputs": [
    {
     "name": "stdout",
     "output_type": "stream",
     "text": [
      "[0.1968325823545456, 0.20361991226673126, 0.2149321287870407, 0.2375565618276596, 0.21266968548297882, 0.2579185664653778, 0.2782805562019348, 0.25339367985725403, 0.25113123655319214, 0.29411765933036804, 0.30995476245880127, 0.28959277272224426, 0.30995476245880127, 0.3054298758506775, 0.3303167521953583, 0.3076923191547394, 0.3235294222831726, 0.33484163880348206, 0.3642534017562866, 0.3733031749725342, 0.3461538553237915, 0.38461539149284363, 0.3868778347969055, 0.3438914120197296, 0.4117647111415863, 0.3868778347969055, 0.42533937096595764, 0.40497738122940063, 0.42081448435783386, 0.4117647111415863]\n"
     ]
    }
   ],
   "source": [
    "accuracy = history.history['accuracy']\n",
    "print(accuracy)"
   ]
  },
  {
   "cell_type": "code",
   "execution_count": 14,
   "metadata": {},
   "outputs": [
    {
     "data": {
      "image/png": "[encoded data removed]",
      "text/plain": [
       "<Figure size 576x576 with 2 Axes>"
      ]
     },
     "metadata": {
      "needs_background": "light"
     },
     "output_type": "display_data"
    }
   ],
   "source": [
    "acc = history.history['accuracy']\n",
    "val_acc = history.history['val_accuracy']\n",
    "\n",
    "loss = history.history['loss']\n",
    "val_loss = history.history['val_loss']\n",
    "\n",
    "epochs_range = range(epochs)\n",
    "\n",
    "plt.figure(figsize=(8, 8))\n",
    "plt.subplot(1, 2, 1)\n",
    "plt.plot(epochs_range, acc, label='Training Accuracy')\n",
    "plt.plot(epochs_range, val_acc, label='Validation Accuracy')\n",
    "plt.legend(loc='lower right')\n",
    "plt.title('Training and Validation Accuracy')\n",
    "\n",
    "plt.subplot(1, 2, 2)\n",
    "plt.plot(epochs_range, loss, label='Training Loss')\n",
    "plt.plot(epochs_range, val_loss, label='Validation Loss')\n",
    "plt.legend(loc='upper right')\n",
    "plt.title('Training and Validation Loss')\n",
    "plt.show()\n"
   ]
  },
  {
   "cell_type": "code",
   "execution_count": null,
   "metadata": {},
   "outputs": [],
   "source": []
  }
 ],
 "metadata": {
  "kernelspec": {
   "display_name": "Python 3 (ipykernel)",
   "language": "python",
   "name": "python3"
  },
  "language_info": {
   "codemirror_mode": {
    "name": "ipython",
    "version": 3
   },
   "file_extension": ".py",
   "mimetype": "text/x-python",
   "name": "python",
   "nbconvert_exporter": "python",
   "pygments_lexer": "ipython3",
   "version": "3.9.7"
  }
 },
 "nbformat": 4,
 "nbformat_minor": 4
}
