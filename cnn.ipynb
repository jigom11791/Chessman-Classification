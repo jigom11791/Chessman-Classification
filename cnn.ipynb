{
 "cells": [
  {
   "cell_type": "markdown",
   "metadata": {},
   "source": [
    "Importing the libraries\n",
    "- used this as a tutorial: https://www.tensorflow.org/tutorials/images/classification"
   ]
  },
  {
   "cell_type": "code",
   "execution_count": 114,
   "metadata": {},
   "outputs": [],
   "source": [
    "import matplotlib.pyplot as plt\n",
    "import numpy as np\n",
    "import os\n",
    "import PIL\n",
    "import tensorflow as tf\n",
    "\n",
    "from tensorflow import keras\n",
    "from tensorflow.keras import layers, regularizers\n",
    "from tensorflow.keras.models import Sequential"
   ]
  },
  {
   "cell_type": "markdown",
   "metadata": {},
   "source": [
    "Creating the dataset"
   ]
  },
  {
   "cell_type": "code",
   "execution_count": 115,
   "metadata": {},
   "outputs": [],
   "source": [
    "batch_size = 64\n",
    "img_size = 100\n",
    "data_dir = \"./chess\""
   ]
  },
  {
   "cell_type": "code",
   "execution_count": 116,
   "metadata": {},
   "outputs": [
    {
     "data": {
      "text/plain": [
       "['.git',\n",
       " '.gitattributes',\n",
       " '.gitignore',\n",
       " '.ipynb_checkpoints',\n",
       " 'Chess',\n",
       " 'cnn.ipynb',\n",
       " 'PCTest']"
      ]
     },
     "execution_count": 116,
     "metadata": {},
     "output_type": "execute_result"
    }
   ],
   "source": [
    "os.listdir('.')"
   ]
  },
  {
   "cell_type": "code",
   "execution_count": 117,
   "metadata": {},
   "outputs": [
    {
     "name": "stdout",
     "output_type": "stream",
     "text": [
      "Found 553 files belonging to 6 classes.\n",
      "Using 443 files for training.\n"
     ]
    }
   ],
   "source": [
    "train_ds = tf.keras.utils.image_dataset_from_directory(\n",
    "    data_dir,\n",
    "    validation_split = 0.2,\n",
    "    subset = \"training\",\n",
    "    seed = 123,\n",
    "    image_size = (img_size, img_size),\n",
    "    batch_size = batch_size)"
   ]
  },
  {
   "cell_type": "code",
   "execution_count": 118,
   "metadata": {},
   "outputs": [
    {
     "name": "stdout",
     "output_type": "stream",
     "text": [
      "Found 553 files belonging to 6 classes.\n",
      "Using 110 files for validation.\n"
     ]
    }
   ],
   "source": [
    "val_ds = tf.keras.utils.image_dataset_from_directory(\n",
    "    data_dir,\n",
    "    validation_split = 0.2,\n",
    "    subset = \"validation\",\n",
    "    seed = 123,\n",
    "    image_size = (img_size, img_size),\n",
    "    batch_size = batch_size)"
   ]
  },
  {
   "cell_type": "code",
   "execution_count": 119,
   "metadata": {},
   "outputs": [
    {
     "name": "stdout",
     "output_type": "stream",
     "text": [
      "['Bishop', 'King', 'Knight', 'Pawn', 'Queen', 'Rook']\n"
     ]
    }
   ],
   "source": [
    "class_names = train_ds.class_names\n",
    "print(class_names)"
   ]
  },
  {
   "cell_type": "markdown",
   "metadata": {},
   "source": [
    "Building A Neural Network Model"
   ]
  },
  {
   "cell_type": "code",
   "execution_count": 167,
   "metadata": {},
   "outputs": [],
   "source": [
    "num_classes = len(class_names)\n",
    "reg = regularizers.l2(0.01)\n",
    "img_shape = (img_size, img_size, 3)\n",
    "\n",
    "model = Sequential([\n",
    "   layers.RandomFlip('horizontal', input_shape=img_shape),\n",
    "#     layers.RandomRotation(0.1),\n",
    "#     layers.RandomZoom(0.1),\n",
    "    layers.Rescaling(1./255, input_shape=img_shape),\n",
    "    layers.Conv2D(16, (3,3), padding='same', activation='relu', kernel_regularizer=reg, bias_regularizer=reg),\n",
    "    layers.MaxPooling2D(pool_size=(2,2)),\n",
    "#     layers.Dropout(0.2),\n",
    "    layers.Conv2D(32, 3, padding='same', activation='relu',kernel_regularizer=reg, bias_regularizer=reg),\n",
    "    layers.MaxPooling2D(pool_size=(2,2)),\n",
    "#     layers.Dropout(0.2),\n",
    "    layers.Conv2D(64, 3, padding='same', activation='relu', kernel_regularizer=reg, bias_regularizer=reg),\n",
    "    layers.MaxPooling2D(),\n",
    "    layers.Dropout(0.2),\n",
    "    layers.Flatten(),\n",
    "    layers.Dense(128, activation='relu', kernel_regularizer=reg, bias_regularizer=reg),\n",
    "    layers.Dense(num_classes, activation='softmax')\n",
    "])"
   ]
  },
  {
   "cell_type": "code",
   "execution_count": 168,
   "metadata": {},
   "outputs": [
    {
     "name": "stdout",
     "output_type": "stream",
     "text": [
      "Model: \"sequential_22\"\n",
      "_________________________________________________________________\n",
      " Layer (type)                Output Shape              Param #   \n",
      "=================================================================\n",
      " random_flip_22 (RandomFlip)  (None, 100, 100, 3)      0         \n",
      "                                                                 \n",
      " rescaling_22 (Rescaling)    (None, 100, 100, 3)       0         \n",
      "                                                                 \n",
      " conv2d_65 (Conv2D)          (None, 100, 100, 16)      448       \n",
      "                                                                 \n",
      " max_pooling2d_65 (MaxPoolin  (None, 50, 50, 16)       0         \n",
      " g2D)                                                            \n",
      "                                                                 \n",
      " conv2d_66 (Conv2D)          (None, 50, 50, 32)        4640      \n",
      "                                                                 \n",
      " max_pooling2d_66 (MaxPoolin  (None, 25, 25, 32)       0         \n",
      " g2D)                                                            \n",
      "                                                                 \n",
      " conv2d_67 (Conv2D)          (None, 25, 25, 64)        18496     \n",
      "                                                                 \n",
      " max_pooling2d_67 (MaxPoolin  (None, 12, 12, 64)       0         \n",
      " g2D)                                                            \n",
      "                                                                 \n",
      " dropout_28 (Dropout)        (None, 12, 12, 64)        0         \n",
      "                                                                 \n",
      " flatten_22 (Flatten)        (None, 9216)              0         \n",
      "                                                                 \n",
      " dense_41 (Dense)            (None, 128)               1179776   \n",
      "                                                                 \n",
      " dense_42 (Dense)            (None, 6)                 774       \n",
      "                                                                 \n",
      "=================================================================\n",
      "Total params: 1,204,134\n",
      "Trainable params: 1,204,134\n",
      "Non-trainable params: 0\n",
      "_________________________________________________________________\n"
     ]
    }
   ],
   "source": [
    "model.summary()"
   ]
  },
  {
   "cell_type": "code",
   "execution_count": 169,
   "metadata": {},
   "outputs": [
    {
     "name": "stdout",
     "output_type": "stream",
     "text": [
      "(64, 100, 100, 3)\n",
      "(64,)\n",
      "(64, 100, 100, 3)\n",
      "(64,)\n"
     ]
    }
   ],
   "source": [
    "for image_batch, labels_batch in train_ds:\n",
    "    print(image_batch.shape)\n",
    "    print(labels_batch.shape)\n",
    "    break\n",
    "for image_batch, labels_batch in val_ds:\n",
    "    print(image_batch.shape)\n",
    "    print(labels_batch.shape)\n",
    "    break"
   ]
  },
  {
   "cell_type": "code",
   "execution_count": 170,
   "metadata": {},
   "outputs": [],
   "source": [
    "model.compile(loss=\"sparse_categorical_crossentropy\",\n",
    "              optimizer=\"Adam\",\n",
    "              metrics=[\"accuracy\"])\n"
   ]
  },
  {
   "cell_type": "code",
   "execution_count": 171,
   "metadata": {},
   "outputs": [
    {
     "name": "stdout",
     "output_type": "stream",
     "text": [
      "Epoch 1/30\n",
      "7/7 [==============================] - 3s 255ms/step - loss: 4.3703 - accuracy: 0.2009 - val_loss: 3.6220 - val_accuracy: 0.2091\n",
      "Epoch 2/30\n",
      "7/7 [==============================] - 3s 253ms/step - loss: 3.2238 - accuracy: 0.2393 - val_loss: 2.8118 - val_accuracy: 0.2545\n",
      "Epoch 3/30\n",
      "7/7 [==============================] - 3s 240ms/step - loss: 2.5935 - accuracy: 0.2844 - val_loss: 2.4059 - val_accuracy: 0.2364\n",
      "Epoch 4/30\n",
      "7/7 [==============================] - 3s 246ms/step - loss: 2.2553 - accuracy: 0.3612 - val_loss: 2.1992 - val_accuracy: 0.2909\n",
      "Epoch 5/30\n",
      "7/7 [==============================] - 3s 271ms/step - loss: 2.0947 - accuracy: 0.3589 - val_loss: 2.1408 - val_accuracy: 0.2909\n",
      "Epoch 6/30\n",
      "7/7 [==============================] - 3s 227ms/step - loss: 1.9981 - accuracy: 0.3657 - val_loss: 2.0356 - val_accuracy: 0.3818\n",
      "Epoch 7/30\n",
      "7/7 [==============================] - 3s 235ms/step - loss: 1.9166 - accuracy: 0.4379 - val_loss: 2.0497 - val_accuracy: 0.3455\n",
      "Epoch 8/30\n",
      "7/7 [==============================] - 3s 230ms/step - loss: 1.8614 - accuracy: 0.4853 - val_loss: 1.9265 - val_accuracy: 0.3909\n",
      "Epoch 9/30\n",
      "7/7 [==============================] - 3s 234ms/step - loss: 1.7160 - accuracy: 0.5169 - val_loss: 1.9919 - val_accuracy: 0.3818\n",
      "Epoch 10/30\n",
      "7/7 [==============================] - 3s 225ms/step - loss: 1.6891 - accuracy: 0.4921 - val_loss: 1.9130 - val_accuracy: 0.4091\n",
      "Epoch 11/30\n",
      "7/7 [==============================] - 2s 222ms/step - loss: 1.6404 - accuracy: 0.5395 - val_loss: 1.9332 - val_accuracy: 0.4364\n",
      "Epoch 12/30\n",
      "7/7 [==============================] - 2s 225ms/step - loss: 1.5754 - accuracy: 0.5779 - val_loss: 1.9621 - val_accuracy: 0.4818\n",
      "Epoch 13/30\n",
      "7/7 [==============================] - 2s 222ms/step - loss: 1.4792 - accuracy: 0.6298 - val_loss: 2.0556 - val_accuracy: 0.4545\n",
      "Epoch 14/30\n",
      "7/7 [==============================] - 2s 222ms/step - loss: 1.4669 - accuracy: 0.6275 - val_loss: 2.0705 - val_accuracy: 0.4545\n",
      "Epoch 15/30\n",
      "7/7 [==============================] - 2s 223ms/step - loss: 1.4240 - accuracy: 0.6637 - val_loss: 2.1002 - val_accuracy: 0.4636\n",
      "Epoch 16/30\n",
      "7/7 [==============================] - 3s 228ms/step - loss: 1.4261 - accuracy: 0.6433 - val_loss: 2.0268 - val_accuracy: 0.4545\n",
      "Epoch 17/30\n",
      "7/7 [==============================] - 2s 223ms/step - loss: 1.3191 - accuracy: 0.7223 - val_loss: 2.1946 - val_accuracy: 0.4455\n",
      "Epoch 18/30\n",
      "7/7 [==============================] - 2s 219ms/step - loss: 1.3491 - accuracy: 0.7088 - val_loss: 2.2606 - val_accuracy: 0.4364\n",
      "Epoch 19/30\n",
      "7/7 [==============================] - 2s 227ms/step - loss: 1.3398 - accuracy: 0.6998 - val_loss: 2.2440 - val_accuracy: 0.4545\n",
      "Epoch 20/30\n",
      "7/7 [==============================] - 3s 229ms/step - loss: 1.3213 - accuracy: 0.7246 - val_loss: 2.1516 - val_accuracy: 0.4636\n",
      "Epoch 21/30\n",
      "7/7 [==============================] - 2s 223ms/step - loss: 1.2198 - accuracy: 0.7540 - val_loss: 2.2437 - val_accuracy: 0.4909\n",
      "Epoch 22/30\n",
      "7/7 [==============================] - 2s 223ms/step - loss: 1.1698 - accuracy: 0.7923 - val_loss: 2.5690 - val_accuracy: 0.3636\n",
      "Epoch 23/30\n",
      "7/7 [==============================] - 2s 221ms/step - loss: 1.1766 - accuracy: 0.7652 - val_loss: 2.3407 - val_accuracy: 0.4364\n",
      "Epoch 24/30\n",
      "7/7 [==============================] - 2s 224ms/step - loss: 1.1893 - accuracy: 0.7878 - val_loss: 2.4064 - val_accuracy: 0.4364\n",
      "Epoch 25/30\n",
      "7/7 [==============================] - 2s 225ms/step - loss: 1.1189 - accuracy: 0.8352 - val_loss: 2.4641 - val_accuracy: 0.4909\n",
      "Epoch 26/30\n",
      "7/7 [==============================] - 2s 224ms/step - loss: 1.0883 - accuracy: 0.8375 - val_loss: 2.4689 - val_accuracy: 0.4909\n",
      "Epoch 27/30\n",
      "7/7 [==============================] - 2s 225ms/step - loss: 1.0685 - accuracy: 0.8375 - val_loss: 2.5456 - val_accuracy: 0.4909\n",
      "Epoch 28/30\n",
      "7/7 [==============================] - 3s 227ms/step - loss: 1.0229 - accuracy: 0.8646 - val_loss: 2.5498 - val_accuracy: 0.4727\n",
      "Epoch 29/30\n",
      "7/7 [==============================] - 2s 224ms/step - loss: 1.0335 - accuracy: 0.8510 - val_loss: 2.4143 - val_accuracy: 0.4636\n",
      "Epoch 30/30\n",
      "7/7 [==============================] - 2s 222ms/step - loss: 1.0001 - accuracy: 0.8691 - val_loss: 2.4745 - val_accuracy: 0.4818\n"
     ]
    }
   ],
   "source": [
    "epochs=30\n",
    "history = model.fit(\n",
    "  train_ds,\n",
    "  validation_data=val_ds,\n",
    "  epochs=epochs\n",
    ")\n"
   ]
  },
  {
   "cell_type": "code",
   "execution_count": 172,
   "metadata": {},
   "outputs": [
    {
     "name": "stdout",
     "output_type": "stream",
     "text": [
      "[0.20090293884277344, 0.239277645945549, 0.284424364566803, 0.3611738085746765, 0.3589164912700653, 0.3656884729862213, 0.43792325258255005, 0.4853273034095764, 0.5169300436973572, 0.4920993149280548, 0.5395033955574036, 0.5778781175613403, 0.6297968626022339, 0.6275395154953003, 0.6636568903923035, 0.6433408856391907, 0.722347617149353, 0.7088035941123962, 0.6997742652893066, 0.7246049642562866, 0.7539503574371338, 0.7923250794410706, 0.765237033367157, 0.7878103852272034, 0.8352144360542297, 0.8374717831611633, 0.8374717831611633, 0.8645598292350769, 0.8510158061981201, 0.8690744638442993]\n"
     ]
    }
   ],
   "source": [
    "accuracy = history.history['accuracy']\n",
    "print(accuracy)"
   ]
  },
  {
   "cell_type": "code",
   "execution_count": 173,
   "metadata": {},
   "outputs": [
    {
     "data": {
      "image/png": "[encoded data removed]",
      "text/plain": [
       "<Figure size 576x576 with 2 Axes>"
      ]
     },
     "metadata": {
      "needs_background": "light"
     },
     "output_type": "display_data"
    }
   ],
   "source": [
    "acc = history.history['accuracy']\n",
    "val_acc = history.history['val_accuracy']\n",
    "\n",
    "loss = history.history['loss']\n",
    "val_loss = history.history['val_loss']\n",
    "\n",
    "epochs_range = range(epochs)\n",
    "\n",
    "plt.figure(figsize=(8, 8))\n",
    "plt.subplot(1, 2, 1)\n",
    "plt.plot(epochs_range, acc, label='Training Accuracy')\n",
    "plt.plot(epochs_range, val_acc, label='Validation Accuracy')\n",
    "plt.legend(loc='lower right')\n",
    "plt.title('Training and Validation Accuracy')\n",
    "\n",
    "plt.subplot(1, 2, 2)\n",
    "plt.plot(epochs_range, loss, label='Training Loss')\n",
    "plt.plot(epochs_range, val_loss, label='Validation Loss')\n",
    "plt.legend(loc='upper right')\n",
    "plt.title('Training and Validation Loss')\n",
    "plt.show()\n"
   ]
  },
  {
   "cell_type": "code",
   "execution_count": null,
   "metadata": {},
   "outputs": [],
   "source": []
  }
 ],
 "metadata": {
  "kernelspec": {
   "display_name": "Python 3",
   "language": "python",
   "name": "python3"
  },
  "language_info": {
   "codemirror_mode": {
    "name": "ipython",
    "version": 3
   },
   "file_extension": ".py",
   "mimetype": "text/x-python",
   "name": "python",
   "nbconvert_exporter": "python",
   "pygments_lexer": "ipython3",
   "version": "3.8.5"
  }
 },
 "nbformat": 4,
 "nbformat_minor": 4
}
