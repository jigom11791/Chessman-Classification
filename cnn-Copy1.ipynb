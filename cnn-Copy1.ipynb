{
 "cells": [
  {
   "cell_type": "markdown",
   "metadata": {},
   "source": [
    "Importing the libraries\n",
    "- used this as a tutorial: https://www.tensorflow.org/tutorials/images/classification"
   ]
  },
  {
   "cell_type": "code",
   "execution_count": 45,
   "metadata": {},
   "outputs": [],
   "source": [
    "import matplotlib.pyplot as plt\n",
    "import numpy as np\n",
    "import os\n",
    "import PIL\n",
    "import tensorflow as tf\n",
    "\n",
    "from tensorflow import keras\n",
    "from tensorflow.keras import layers, regularizers\n",
    "from tensorflow.keras.models import Sequential"
   ]
  },
  {
   "cell_type": "markdown",
   "metadata": {},
   "source": [
    "Creating the dataset"
   ]
  },
  {
   "cell_type": "code",
   "execution_count": 46,
   "metadata": {},
   "outputs": [],
   "source": [
    "batch_size = 32\n",
    "img_size = 100\n",
    "data_dir = \"./chess\""
   ]
  },
  {
   "cell_type": "code",
   "execution_count": 47,
   "metadata": {},
   "outputs": [
    {
     "data": {
      "text/plain": [
       "['.DS_Store',\n",
       " '.git',\n",
       " '.gitattributes',\n",
       " '.gitignore',\n",
       " '.ipynb_checkpoints',\n",
       " 'Chess',\n",
       " 'cnn-Copy1.ipynb',\n",
       " 'cnn.ipynb',\n",
       " 'transfer_model.ipynb']"
      ]
     },
     "execution_count": 47,
     "metadata": {},
     "output_type": "execute_result"
    }
   ],
   "source": [
    "os.listdir('.')"
   ]
  },
  {
   "cell_type": "code",
   "execution_count": 48,
   "metadata": {},
   "outputs": [
    {
     "name": "stdout",
     "output_type": "stream",
     "text": [
      "Found 552 files belonging to 6 classes.\n",
      "Using 442 files for training.\n"
     ]
    }
   ],
   "source": [
    "train_ds = tf.keras.utils.image_dataset_from_directory(\n",
    "    data_dir,\n",
    "    validation_split = 0.2,\n",
    "    subset = \"training\",\n",
    "    seed = 123,\n",
    "    image_size = (img_size, img_size),\n",
    "    batch_size = batch_size)"
   ]
  },
  {
   "cell_type": "code",
   "execution_count": 49,
   "metadata": {},
   "outputs": [
    {
     "name": "stdout",
     "output_type": "stream",
     "text": [
      "Found 552 files belonging to 6 classes.\n",
      "Using 110 files for validation.\n"
     ]
    }
   ],
   "source": [
    "val_ds = tf.keras.utils.image_dataset_from_directory(\n",
    "    data_dir,\n",
    "    validation_split = 0.2,\n",
    "    subset = \"validation\",\n",
    "    seed = 123,\n",
    "    image_size = (img_size, img_size),\n",
    "    batch_size = batch_size)"
   ]
  },
  {
   "cell_type": "code",
   "execution_count": 50,
   "metadata": {},
   "outputs": [
    {
     "data": {
      "text/plain": [
       "tensorflow.python.data.ops.dataset_ops.BatchDataset"
      ]
     },
     "execution_count": 50,
     "metadata": {},
     "output_type": "execute_result"
    }
   ],
   "source": [
    "type(train_ds)"
   ]
  },
  {
   "cell_type": "code",
   "execution_count": 51,
   "metadata": {},
   "outputs": [
    {
     "name": "stdout",
     "output_type": "stream",
     "text": [
      "['Bishop', 'King', 'Knight', 'Pawn', 'Queen', 'Rook']\n"
     ]
    }
   ],
   "source": [
    "class_names = train_ds.class_names\n",
    "print(class_names)"
   ]
  },
  {
   "cell_type": "markdown",
   "metadata": {},
   "source": [
    "Building A Neural Network Model"
   ]
  },
  {
   "cell_type": "code",
   "execution_count": 52,
   "metadata": {},
   "outputs": [],
   "source": [
    "data_augmentation = Sequential([\n",
    "    layers.RandomFlip('horizontal'),\n",
    "    layers.RandomRotation(0.1),\n",
    "    layers.RandomZoom((-0.1,0.1)),\n",
    "    layers.RandomContrast(0.05),\n",
    "    layers.RandomTranslation(0.1,0.1)\n",
    "])"
   ]
  },
  {
   "cell_type": "code",
   "execution_count": 53,
   "metadata": {},
   "outputs": [],
   "source": [
    "num_classes = len(class_names)\n",
    "reg = regularizers.l2(0.001)\n",
    "img_shape = (img_size, img_size, 3)\n",
    "\n",
    "model = Sequential([\n",
    "    layers.InputLayer(input_shape=img_shape),\n",
    "    data_augmentation,\n",
    "    layers.Rescaling(1./255),\n",
    "    layers.Conv2D(16, (3,3), padding='same', activation='relu', kernel_regularizer=reg, bias_regularizer=reg),\n",
    "    layers.MaxPooling2D(pool_size=(2,2)),\n",
    "#     layers.Dropout(0.2),\n",
    "    layers.Conv2D(32, 3, padding='same', activation='relu',kernel_regularizer=reg, bias_regularizer=reg),\n",
    "    layers.MaxPooling2D(pool_size=(2,2)),\n",
    "#     layers.Dropout(0.2),\n",
    "    layers.Conv2D(64, 3, padding='same', activation='relu', kernel_regularizer=reg, bias_regularizer=reg),\n",
    "    layers.MaxPooling2D(),\n",
    "    layers.Dropout(0.2),\n",
    "    layers.Flatten(),\n",
    "    layers.Dense(128, activation='relu', kernel_regularizer=reg, bias_regularizer=reg),\n",
    "    layers.Dense(num_classes, activation='softmax')\n",
    "])"
   ]
  },
  {
   "cell_type": "code",
   "execution_count": 54,
   "metadata": {},
   "outputs": [
    {
     "name": "stdout",
     "output_type": "stream",
     "text": [
      "Model: \"sequential_7\"\n",
      "_________________________________________________________________\n",
      " Layer (type)                Output Shape              Param #   \n",
      "=================================================================\n",
      " sequential_6 (Sequential)   (None, 100, 100, 3)       0         \n",
      "                                                                 \n",
      " rescaling_3 (Rescaling)     (None, 100, 100, 3)       0         \n",
      "                                                                 \n",
      " conv2d_9 (Conv2D)           (None, 100, 100, 16)      448       \n",
      "                                                                 \n",
      " max_pooling2d_9 (MaxPooling  (None, 50, 50, 16)       0         \n",
      " 2D)                                                             \n",
      "                                                                 \n",
      " conv2d_10 (Conv2D)          (None, 50, 50, 32)        4640      \n",
      "                                                                 \n",
      " max_pooling2d_10 (MaxPoolin  (None, 25, 25, 32)       0         \n",
      " g2D)                                                            \n",
      "                                                                 \n",
      " conv2d_11 (Conv2D)          (None, 25, 25, 64)        18496     \n",
      "                                                                 \n",
      " max_pooling2d_11 (MaxPoolin  (None, 12, 12, 64)       0         \n",
      " g2D)                                                            \n",
      "                                                                 \n",
      " dropout_3 (Dropout)         (None, 12, 12, 64)        0         \n",
      "                                                                 \n",
      " flatten_3 (Flatten)         (None, 9216)              0         \n",
      "                                                                 \n",
      " dense_6 (Dense)             (None, 128)               1179776   \n",
      "                                                                 \n",
      " dense_7 (Dense)             (None, 6)                 774       \n",
      "                                                                 \n",
      "=================================================================\n",
      "Total params: 1,204,134\n",
      "Trainable params: 1,204,134\n",
      "Non-trainable params: 0\n",
      "_________________________________________________________________\n"
     ]
    }
   ],
   "source": [
    "model.summary()"
   ]
  },
  {
   "cell_type": "code",
   "execution_count": 55,
   "metadata": {},
   "outputs": [],
   "source": [
    "model.compile(loss=\"sparse_categorical_crossentropy\",\n",
    "              optimizer=keras.optimizers.Adam(0.0005),\n",
    "              metrics=[\"accuracy\"])\n"
   ]
  },
  {
   "cell_type": "code",
   "execution_count": 56,
   "metadata": {},
   "outputs": [
    {
     "name": "stdout",
     "output_type": "stream",
     "text": [
      "Epoch 1/30\n",
      "14/14 [==============================] - 11s 477ms/step - loss: 2.0870 - accuracy: 0.2059 - val_loss: 2.0516 - val_accuracy: 0.1545\n",
      "Epoch 2/30\n",
      "14/14 [==============================] - 8s 435ms/step - loss: 2.0129 - accuracy: 0.2036 - val_loss: 1.9980 - val_accuracy: 0.1818\n",
      "Epoch 3/30\n",
      "14/14 [==============================] - 8s 454ms/step - loss: 1.9606 - accuracy: 0.2240 - val_loss: 1.9680 - val_accuracy: 0.2545\n",
      "Epoch 4/30\n",
      "14/14 [==============================] - 8s 434ms/step - loss: 1.9283 - accuracy: 0.2398 - val_loss: 1.9394 - val_accuracy: 0.2364\n",
      "Epoch 5/30\n",
      "14/14 [==============================] - 8s 449ms/step - loss: 1.9101 - accuracy: 0.2172 - val_loss: 1.9245 - val_accuracy: 0.2000\n",
      "Epoch 6/30\n",
      "14/14 [==============================] - 8s 426ms/step - loss: 1.8922 - accuracy: 0.2330 - val_loss: 1.9120 - val_accuracy: 0.2455\n",
      "Epoch 7/30\n",
      "14/14 [==============================] - 8s 468ms/step - loss: 1.8894 - accuracy: 0.2149 - val_loss: 1.8905 - val_accuracy: 0.2545\n",
      "Epoch 8/30\n",
      "14/14 [==============================] - 9s 469ms/step - loss: 1.8544 - accuracy: 0.2579 - val_loss: 1.8888 - val_accuracy: 0.2273\n",
      "Epoch 9/30\n",
      "14/14 [==============================] - 8s 436ms/step - loss: 1.8202 - accuracy: 0.2738 - val_loss: 1.8644 - val_accuracy: 0.2364\n",
      "Epoch 10/30\n",
      "14/14 [==============================] - 8s 450ms/step - loss: 1.8224 - accuracy: 0.2670 - val_loss: 1.8820 - val_accuracy: 0.2636\n",
      "Epoch 11/30\n",
      "14/14 [==============================] - 8s 472ms/step - loss: 1.7992 - accuracy: 0.2986 - val_loss: 1.8548 - val_accuracy: 0.2636\n",
      "Epoch 12/30\n",
      "14/14 [==============================] - 8s 467ms/step - loss: 1.7894 - accuracy: 0.2896 - val_loss: 1.8383 - val_accuracy: 0.2909\n",
      "Epoch 13/30\n",
      "14/14 [==============================] - 9s 461ms/step - loss: 1.7668 - accuracy: 0.2986 - val_loss: 1.8389 - val_accuracy: 0.3091\n",
      "Epoch 14/30\n",
      "14/14 [==============================] - 8s 449ms/step - loss: 1.7376 - accuracy: 0.3145 - val_loss: 1.9050 - val_accuracy: 0.2818\n",
      "Epoch 15/30\n",
      "14/14 [==============================] - 9s 465ms/step - loss: 1.7224 - accuracy: 0.3213 - val_loss: 1.8597 - val_accuracy: 0.2818\n",
      "Epoch 16/30\n",
      "14/14 [==============================] - 9s 482ms/step - loss: 1.7111 - accuracy: 0.3258 - val_loss: 1.8613 - val_accuracy: 0.2909\n",
      "Epoch 17/30\n",
      "14/14 [==============================] - 8s 429ms/step - loss: 1.7414 - accuracy: 0.3213 - val_loss: 1.8745 - val_accuracy: 0.2727\n",
      "Epoch 18/30\n",
      "14/14 [==============================] - 8s 463ms/step - loss: 1.7130 - accuracy: 0.3281 - val_loss: 1.7979 - val_accuracy: 0.3273\n",
      "Epoch 19/30\n",
      "14/14 [==============================] - 9s 469ms/step - loss: 1.6889 - accuracy: 0.3258 - val_loss: 1.7852 - val_accuracy: 0.3545\n",
      "Epoch 20/30\n",
      "14/14 [==============================] - 8s 453ms/step - loss: 1.6833 - accuracy: 0.3371 - val_loss: 1.7833 - val_accuracy: 0.3727\n",
      "Epoch 21/30\n",
      "14/14 [==============================] - 8s 464ms/step - loss: 1.6679 - accuracy: 0.3462 - val_loss: 1.7721 - val_accuracy: 0.3636\n",
      "Epoch 22/30\n",
      "14/14 [==============================] - 9s 476ms/step - loss: 1.6774 - accuracy: 0.3507 - val_loss: 1.7860 - val_accuracy: 0.2909\n",
      "Epoch 23/30\n",
      "14/14 [==============================] - 8s 469ms/step - loss: 1.6616 - accuracy: 0.3665 - val_loss: 1.8236 - val_accuracy: 0.3364\n",
      "Epoch 24/30\n",
      "14/14 [==============================] - 8s 464ms/step - loss: 1.6669 - accuracy: 0.3688 - val_loss: 1.7995 - val_accuracy: 0.3455\n",
      "Epoch 25/30\n",
      "14/14 [==============================] - 8s 449ms/step - loss: 1.6482 - accuracy: 0.3959 - val_loss: 1.7722 - val_accuracy: 0.3545\n",
      "Epoch 26/30\n",
      "14/14 [==============================] - 8s 468ms/step - loss: 1.6292 - accuracy: 0.3529 - val_loss: 1.8490 - val_accuracy: 0.3545\n",
      "Epoch 27/30\n",
      "14/14 [==============================] - 8s 449ms/step - loss: 1.6421 - accuracy: 0.3756 - val_loss: 1.7799 - val_accuracy: 0.3455\n",
      "Epoch 28/30\n",
      "14/14 [==============================] - 8s 462ms/step - loss: 1.6341 - accuracy: 0.3484 - val_loss: 1.7597 - val_accuracy: 0.3455\n",
      "Epoch 29/30\n",
      "14/14 [==============================] - 8s 447ms/step - loss: 1.6062 - accuracy: 0.3846 - val_loss: 1.7683 - val_accuracy: 0.3909\n",
      "Epoch 30/30\n",
      "14/14 [==============================] - 9s 471ms/step - loss: 1.5988 - accuracy: 0.4163 - val_loss: 1.7434 - val_accuracy: 0.3909\n"
     ]
    }
   ],
   "source": [
    "epochs=30\n",
    "history = model.fit(\n",
    "  train_ds,\n",
    "  validation_data=val_ds,\n",
    "  epochs=epochs\n",
    ")\n"
   ]
  },
  {
   "cell_type": "code",
   "execution_count": 57,
   "metadata": {},
   "outputs": [
    {
     "name": "stdout",
     "output_type": "stream",
     "text": [
      "[0.20588235557079315, 0.20361991226673126, 0.22398190200328827, 0.2398190051317215, 0.2171945720911026, 0.23303167521953583, 0.2149321287870407, 0.2579185664653778, 0.27375566959381104, 0.26696833968162537, 0.2986425459384918, 0.28959277272224426, 0.2986425459384918, 0.31447964906692505, 0.3212669789791107, 0.3257918655872345, 0.3212669789791107, 0.3280543088912964, 0.3257918655872345, 0.33710408210754395, 0.3461538553237915, 0.3506787419319153, 0.3665158450603485, 0.3687782883644104, 0.3959276080131531, 0.3529411852359772, 0.37556561827659607, 0.3484162986278534, 0.38461539149284363, 0.4162895977497101]\n"
     ]
    }
   ],
   "source": [
    "accuracy = history.history['accuracy']\n",
    "print(accuracy)"
   ]
  },
  {
   "cell_type": "code",
   "execution_count": 58,
   "metadata": {},
   "outputs": [
    {
     "data": {
      "image/png": "[encoded data removed]",
      "text/plain": [
       "<Figure size 576x576 with 2 Axes>"
      ]
     },
     "metadata": {
      "needs_background": "light"
     },
     "output_type": "display_data"
    }
   ],
   "source": [
    "acc = history.history['accuracy']\n",
    "val_acc = history.history['val_accuracy']\n",
    "\n",
    "loss = history.history['loss']\n",
    "val_loss = history.history['val_loss']\n",
    "\n",
    "epochs_range = range(epochs)\n",
    "\n",
    "plt.figure(figsize=(8, 8))\n",
    "plt.subplot(1, 2, 1)\n",
    "plt.plot(epochs_range, acc, label='Training Accuracy')\n",
    "plt.plot(epochs_range, val_acc, label='Validation Accuracy')\n",
    "plt.legend(loc='lower right')\n",
    "plt.title('Training and Validation Accuracy')\n",
    "\n",
    "plt.subplot(1, 2, 2)\n",
    "plt.plot(epochs_range, loss, label='Training Loss')\n",
    "plt.plot(epochs_range, val_loss, label='Validation Loss')\n",
    "plt.legend(loc='upper right')\n",
    "plt.title('Training and Validation Loss')\n",
    "plt.show()\n"
   ]
  },
  {
   "cell_type": "code",
   "execution_count": null,
   "metadata": {},
   "outputs": [],
   "source": []
  }
 ],
 "metadata": {
  "kernelspec": {
   "display_name": "Python 3 (ipykernel)",
   "language": "python",
   "name": "python3"
  },
  "language_info": {
   "codemirror_mode": {
    "name": "ipython",
    "version": 3
   },
   "file_extension": ".py",
   "mimetype": "text/x-python",
   "name": "python",
   "nbconvert_exporter": "python",
   "pygments_lexer": "ipython3",
   "version": "3.9.7"
  }
 },
 "nbformat": 4,
 "nbformat_minor": 4
}
